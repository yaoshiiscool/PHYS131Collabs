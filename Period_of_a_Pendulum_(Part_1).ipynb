{
  "nbformat": 4,
  "nbformat_minor": 0,
  "metadata": {
    "colab": {
      "provenance": [],
      "collapsed_sections": [
        "NdHh3BxR_8rl",
        "BiWFTKSnYuZ3",
        "ZyY2MRKjZlTu"
      ],
      "include_colab_link": true
    },
    "kernelspec": {
      "name": "python3",
      "display_name": "Python 3"
    }
  },
  "cells": [
    {
      "cell_type": "markdown",
      "metadata": {
        "id": "view-in-github",
        "colab_type": "text"
      },
      "source": [
        "<a href=\"https://colab.research.google.com/github/yaoshiiscool/PHYS131Collabs/blob/main/Period_of_a_Pendulum_(Part_1).ipynb\" target=\"_parent\"><img src=\"https://colab.research.google.com/assets/colab-badge.svg\" alt=\"Open In Colab\"/></a>"
      ]
    },
    {
      "cell_type": "markdown",
      "metadata": {
        "id": "4ySk1v1dA8KQ"
      },
      "source": [
        "#PERIOD OF A PENDULUM (Part 1)\n",
        "\n",
        "*Last updated 10/5/2022*\n",
        "\n",
        "This Google Colaboration notebook uses the programming language Python. You don't need to understand how to program in Python yourself to use this notebook. Instead, we will explain what each cell does and where you will need to make edits. Think of it as a **tool** that we'll use to do calculations and produce plots."
      ]
    },
    {
      "cell_type": "markdown",
      "metadata": {
        "id": "BT6twjYGPaFx"
      },
      "source": [
        "This particular cell is a **text** cell, but you'll notice that some of the cells below contain **code**. To exectute the code inside a cell, click the cell and press `shift+enter` or click the run icon that appears when hovering over the top-left corner of the cell. Run the cells wihin a section from top to bottom, stopping to read the notes before/after each cell to make sure you know what is going on.\n",
        "\n",
        "Try it with the cell below! Execute it by pressing `shift+enter` (and selecting \"Run Anyway\" if a warning box pops up)."
      ]
    },
    {
      "cell_type": "code",
      "metadata": {
        "colab": {
          "base_uri": "https://localhost:8080/"
        },
        "id": "JX0YV0ZNYAbd",
        "outputId": "7c84466a-b13c-419e-f4a1-7f6b0629893c"
      },
      "source": [
        "print('Hello World')"
      ],
      "execution_count": null,
      "outputs": [
        {
          "output_type": "stream",
          "name": "stdout",
          "text": [
            "Hello World\n"
          ]
        }
      ]
    },
    {
      "cell_type": "markdown",
      "metadata": {
        "id": "ubboV583axKG"
      },
      "source": [
        "The sections below are broken up into different parts. Remember to run the parts from top to bottom.\n",
        "\n",
        "*Note that if the cells below are collapsed, you can click the little triangle next to the header to expand the cells*."
      ]
    },
    {
      "cell_type": "markdown",
      "metadata": {
        "id": "NdHh3BxR_8rl"
      },
      "source": [
        "# Preliminary cells\n",
        "These cells load libraries and define some useful functions. Later when you have more time, you can look closely at the code and try to understand what it is doing, but for now you can just run the cells by clicking `shift+enter` and moving on. (There is no output.)"
      ]
    },
    {
      "cell_type": "code",
      "metadata": {
        "id": "FYyrc5_r_7iQ"
      },
      "source": [
        "# These lines load important libraries into memory\n",
        "import numpy as np\n",
        "from matplotlib import pyplot as plt\n",
        "\n",
        "# Below are several functions we want to define\n",
        "def average(x):\n",
        "    sum = 0                  # initializes our running total to be zero and calls it \"sum\"\n",
        "    for number in x:         # makes a loop over the list \"x\"\n",
        "        sum = sum + number   # adds the current item in the list (called \"number\" to the running total (called \"sum\")\n",
        "    return(sum / len(x))     # divides the total by the number of items in the list\n",
        "\n",
        "def standard_deviation(x):\n",
        "    avg = average(x)\n",
        "    variance = 0                                # initializes our running total to be zero and calls it \"variance\"\n",
        "    for number in x:                            # makes a loop over the list \"x\"\n",
        "        variance = variance + (number - avg)**2 # adds the square of the difference between each item and the average\n",
        "    return(np.sqrt(variance/(len(x)-1)))        # divides the total by N-1\n",
        "\n",
        "def standard_error(x):\n",
        "    return(standard_deviation(x))/np.sqrt(len(x)) # divides the standard deviation by sqrt of the number of points\n",
        "\n",
        "def t_prime(A, dA, B, dB=0):               # Calculates the t_prime value between A +/- dA and B +/- B\n",
        "    return((A-B)/np.sqrt(dA**2 + dB**2))   # If only 3 arguments are given, assumes dB = 0 (e.g. a literature value)"
      ],
      "execution_count": null,
      "outputs": []
    },
    {
      "cell_type": "code",
      "metadata": {
        "id": "eomHvKCQRl6N"
      },
      "source": [
        "# These lines control how our figures look\n",
        "%matplotlib inline\n",
        "plt.rcParams['figure.dpi'] = 160 #Change this value to make your picture bigger or smaller"
      ],
      "execution_count": null,
      "outputs": []
    },
    {
      "cell_type": "markdown",
      "metadata": {
        "id": "BiWFTKSnYuZ3"
      },
      "source": [
        "# Dropping paper\n",
        "You can use these cells to calculate the statistics for your paper drop times (mean, standard deviation and standard error) and then make a scatter plot to visualize the data.\n"
      ]
    },
    {
      "cell_type": "markdown",
      "metadata": {
        "id": "a32nXyM-BV3Q"
      },
      "source": [
        "The next cell contains a list of numbers inside square brackets. This will be where you enter your list of values for the measured drop times. **Edit** this cell to use your own times in units of *seconds*. Make sure that numbers are separated by commas and that the list is inside square brackets (e.g. `time = [1.0, 2.2, 3.8]`).\n",
        "\n"
      ]
    },
    {
      "cell_type": "code",
      "metadata": {
        "id": "1rgTfXZrBmyy"
      },
      "source": [
        "times = [1.24,0.76,0.99,0.96,1.14,1.09]"
      ],
      "execution_count": null,
      "outputs": []
    },
    {
      "cell_type": "markdown",
      "metadata": {
        "id": "l8QyziZOZJ88"
      },
      "source": [
        "Let's perform some calculations on your data."
      ]
    },
    {
      "cell_type": "code",
      "metadata": {
        "id": "osaNHhO_jr-v",
        "colab": {
          "base_uri": "https://localhost:8080/"
        },
        "outputId": "21e44caf-011c-46f6-d58c-739925e6d8be"
      },
      "source": [
        "mean = average(times)\n",
        "std_dev = standard_deviation(times)\n",
        "std_err = standard_error(times)\n",
        "\n",
        "print(\"Average fall time is {:0.2f} sec\".format(mean))\n",
        "print(\"Standard deviation is {:0.2f} sec\".format(std_dev))\n",
        "print(\"Standard error (SE) is {:0.2f} sec\".format(std_err))"
      ],
      "execution_count": null,
      "outputs": [
        {
          "output_type": "stream",
          "name": "stdout",
          "text": [
            "Average fall time is 1.03 sec\n",
            "Standard deviation is 0.17 sec\n",
            "Standard error (SE) is 0.07 sec\n"
          ]
        }
      ]
    },
    {
      "cell_type": "markdown",
      "metadata": {
        "id": "urbN0-fHefBC"
      },
      "source": [
        "Finally, let's make a scatter plot of your data."
      ]
    },
    {
      "cell_type": "code",
      "metadata": {
        "id": "eT2zdtx6k76S",
        "colab": {
          "base_uri": "https://localhost:8080/",
          "height": 673
        },
        "outputId": "69804493-d7a0-47b9-9b3a-b6c195da5daa"
      },
      "source": [
        "index = np.linspace(1,len(times),len(times))\n",
        "fig,ax = plt.subplots()\n",
        "ax.scatter(index,times,label = \"Data within 1$\\\\sigma$\")\n",
        "ax.axhline(mean,color='r',label=\"Mean distance\")\n",
        "ax.axhline(mean+std_dev,color='g',label=\"Mean $\\\\pm$ $\\\\sigma$\")\n",
        "ax.axhline(mean-std_dev,color='g')\n",
        "ax.axhline(mean+std_err,color='b',label=\"Mean $\\\\pm$ SE\")\n",
        "ax.axhline(mean-std_err,color='b')\n",
        "\n",
        "times = np.array(times)\n",
        "outside_sigma = np.logical_or( times > mean+std_dev, times < mean-std_dev)\n",
        "ax.scatter(index[outside_sigma], times[outside_sigma],\n",
        "           label = \"Data outside 1$\\\\sigma$\")\n",
        "\n",
        "ax.set_title(\"Drop time scatter plot\")\n",
        "ax.set_ylabel(\"Time (sec)\")\n",
        "ax.set_ylim(top=1.2*max(times))\n",
        "plt.xticks([])\n",
        "ax.legend(fontsize=\"x-small\")\n",
        "plt.show()"
      ],
      "execution_count": null,
      "outputs": [
        {
          "output_type": "display_data",
          "data": {
            "text/plain": [
              "<Figure size 1024x768 with 1 Axes>"
            ],
            "image/png": "[encoded data removed]"
          },
          "metadata": {}
        }
      ]
    },
    {
      "cell_type": "markdown",
      "metadata": {
        "id": "2B5s8j4eK3wz"
      },
      "source": [
        "Now save your image (right click and select \"save image as\") and put a copy in your lab notebook!"
      ]
    },
    {
      "cell_type": "markdown",
      "metadata": {
        "id": "ZyY2MRKjZlTu"
      },
      "source": [
        "# Building a pendulum\n",
        "You may now use this section to compute statistics and plot your period for your pendulum."
      ]
    },
    {
      "cell_type": "markdown",
      "metadata": {
        "id": "c0tDkbp0F3eB"
      },
      "source": [
        "**Edit** the first line here by entering the length of the pendulum. The rest of the code will will calculate the predicted period."
      ]
    },
    {
      "cell_type": "code",
      "metadata": {
        "id": "RM8uxQu0F3eC",
        "colab": {
          "base_uri": "https://localhost:8080/"
        },
        "outputId": "3c7565ff-2db0-46ca-e4ba-9b5570daf5f7"
      },
      "source": [
        "# L is the length of your pendulum (in meters)\n",
        "L = 1\n",
        "\n",
        "# T_predicted is the value of the period predicted from the formula (in seconds)\n",
        "T_predicted = 2*np.pi*np.sqrt(L/9.81)\n",
        "\n",
        "print(\"Predicted Period: T = \", T_predicted, \"seconds\")"
      ],
      "execution_count": null,
      "outputs": [
        {
          "output_type": "stream",
          "name": "stdout",
          "text": [
            "Predicted Period: T =  2.0060666807106475 seconds\n"
          ]
        }
      ]
    },
    {
      "cell_type": "markdown",
      "metadata": {
        "id": "MkvohA1WF3eI"
      },
      "source": [
        "Enter the list of measured periods for each angle you studied.\n",
        "\n",
        "*If you measure at different angles than the ones listed below, follow the naming pattern. For example, if you measure at $8^{\\circ}$, you can add a line of code* `T8 = [...]` *for the measured periods at that angle.*"
      ]
    },
    {
      "cell_type": "code",
      "metadata": {
        "id": "ZCLnzymdF3eJ",
        "colab": {
          "base_uri": "https://localhost:8080/"
        },
        "outputId": "c59c9e7a-cf97-457d-d9d5-a368e693b05f"
      },
      "source": [
        "# T5 and T10 are lists of your measured periods of 5 and 10 degrees, respectively\n",
        "T5 = [1.85, 1.90, 1.80, 1.75]\n",
        "T10 = [1.83, 1.88, 1.76, 1.74]\n",
        "\n",
        "print(\"periods at 5 degrees:\", T5)\n",
        "print(\"periods at 10 degrees:\", T10)"
      ],
      "execution_count": null,
      "outputs": [
        {
          "output_type": "stream",
          "name": "stdout",
          "text": [
            "periods at 5 degrees: [1.85, 1.9, 1.8, 1.75]\n",
            "periods at 10 degrees: [1.83, 1.88, 1.76, 1.74]\n"
          ]
        }
      ]
    },
    {
      "cell_type": "markdown",
      "metadata": {
        "id": "Ch2C6VZIF3eO"
      },
      "source": [
        "Next, compute the average and standard error for these two lists of data.\n",
        "\n",
        "*Again, if you measured at different angles, use the naming pattern to add the appropriate lines of code.*"
      ]
    },
    {
      "cell_type": "code",
      "metadata": {
        "id": "7DtQbchNF3eP",
        "colab": {
          "base_uri": "https://localhost:8080/"
        },
        "outputId": "6c500515-0884-452c-8ec5-aecc4aefb2da"
      },
      "source": [
        "avg5 = average(T5)\n",
        "avg10 = average(T10)\n",
        "\n",
        "davg5 = standard_error(T5)\n",
        "davg10 = standard_error(T10)\n",
        "\n",
        "print(\"T_5 = \", avg5, \"+/-\", davg5)\n",
        "print(\"T_10 = \", avg10, \"+/-\", davg10)"
      ],
      "execution_count": null,
      "outputs": [
        {
          "output_type": "stream",
          "name": "stdout",
          "text": [
            "T_5 =  1.825 +/- 0.03227486121839513\n",
            "T_10 =  1.8025 +/- 0.03224257020358849\n"
          ]
        }
      ]
    },
    {
      "cell_type": "markdown",
      "metadata": {
        "id": "NKqk2_6cF3eT"
      },
      "source": [
        "Next, we can plot the data against the predicted value."
      ]
    },
    {
      "cell_type": "code",
      "metadata": {
        "id": "CwD1-PuHF3eV",
        "colab": {
          "base_uri": "https://localhost:8080/",
          "height": 633
        },
        "outputId": "558d11c5-791c-4b16-cfba-c9bade81f237"
      },
      "source": [
        "plt.figure()\n",
        "plt.axhline(T_predicted, color = 'black', linestyle='--', label='Predicted Value')\n",
        "plt.plot(5*np.ones(len(T5)), T5, 'o')\n",
        "plt.plot(10*np.ones(len(T10)), T10, 'o')\n",
        "plt.errorbar([5, 10], [avg5, avg10], [davg5, davg10], fmt = 'k.', capsize=2)\n",
        "plt.xlabel(\"Angle, $\\\\theta$ (degrees)\")\n",
        "plt.ylabel(\"Period, $T$ (sec)\")\n",
        "plt.title(\"Period of a Pendulum\")\n",
        "plt.xlim([0, 20])\n",
        "plt.xticks([0,5,10,15,20])\n",
        "plt.legend()\n",
        "plt.show()"
      ],
      "execution_count": null,
      "outputs": [
        {
          "output_type": "display_data",
          "data": {
            "text/plain": [
              "<Figure size 960x640 with 1 Axes>"
            ],
            "image/png": "[encoded data removed]"
          },
          "metadata": {
            "needs_background": "light"
          }
        }
      ]
    },
    {
      "cell_type": "markdown",
      "metadata": {
        "id": "m4L-b3BjF3eb"
      },
      "source": [
        "Finally, we check the $t^{\\prime}$ value at each angle to see if we have agreement with the predicted value."
      ]
    },
    {
      "cell_type": "code",
      "metadata": {
        "id": "EHyUubvVF3ec",
        "colab": {
          "base_uri": "https://localhost:8080/"
        },
        "outputId": "0725d3c1-f83c-4ace-cd88-e2ee0c83ce87"
      },
      "source": [
        "print(\"For 5 degrees, t' =\", t_prime(avg5, davg5, T_predicted))\n",
        "print(\"For 10 degrees, t' =\", t_prime(avg10, davg10, T_predicted))"
      ],
      "execution_count": null,
      "outputs": [
        {
          "output_type": "stream",
          "name": "stdout",
          "text": [
            "For 5 degrees, t' = 0.6054243650559934\n",
            "For 10 degrees, t' = -0.09180448769724157\n"
          ]
        }
      ]
    }
  ]
}