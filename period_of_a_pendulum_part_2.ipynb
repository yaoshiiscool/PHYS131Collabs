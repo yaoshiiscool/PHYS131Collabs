{
  "nbformat": 4,
  "nbformat_minor": 0,
  "metadata": {
    "colab": {
      "provenance": [],
      "collapsed_sections": [
        "NdHh3BxR_8rl",
        "j3mxQgN7F3eg",
        "FbPJcJoxQLWA"
      ],
      "include_colab_link": true
    },
    "kernelspec": {
      "name": "python3",
      "display_name": "Python 3"
    }
  },
  "cells": [
    {
      "cell_type": "markdown",
      "metadata": {
        "id": "view-in-github",
        "colab_type": "text"
      },
      "source": [
        "<a href=\"https://colab.research.google.com/github/yaoshiiscool/PHYS131Collabs/blob/main/period_of_a_pendulum_part_2.ipynb\" target=\"_parent\"><img src=\"https://colab.research.google.com/assets/colab-badge.svg\" alt=\"Open In Colab\"/></a>"
      ]
    },
    {
      "cell_type": "markdown",
      "metadata": {
        "id": "4ySk1v1dA8KQ"
      },
      "source": [
        "#PERIOD OF A PENDULUM (Part 2)\n",
        "\n",
        "*Last updated 10/5/2022*\n",
        "\n",
        "This notebook is a continuation of the notebook provided in Part 1. See that notebook for more details.\n",
        "\n",
        "*Note that if the cells below are collapsed, you can click the little triangle next to the header to expand the cells*."
      ]
    },
    {
      "cell_type": "markdown",
      "metadata": {
        "id": "NdHh3BxR_8rl"
      },
      "source": [
        "# Preliminary cells\n",
        "These cells load libraries and define some useful functions. Later when you have more time, you can look closely at the code and try to understand what it is doing, but for now you can just run the cells by clicking `shift+enter` and moving on. (There is no output.)"
      ]
    },
    {
      "cell_type": "code",
      "metadata": {
        "id": "FYyrc5_r_7iQ"
      },
      "source": [
        "# These lines load important libraries into memory\n",
        "import numpy as np\n",
        "from matplotlib import pyplot as plt\n",
        "\n",
        "# Below are several functions we want to define\n",
        "def average(x):\n",
        "    sum = 0                  # initializes our running total to be zero and calls it \"sum\"\n",
        "    for number in x:         # makes a loop over the list \"x\"\n",
        "        sum = sum + number   # adds the current item in the list (called \"number\" to the running total (called \"sum\")\n",
        "    return(sum / len(x))     # divides the total by the number of items in the list\n",
        "\n",
        "def standard_deviation(x):\n",
        "    avg = average(x)\n",
        "    variance = 0                                # initializes our running total to be zero and calls it \"variance\"\n",
        "    for number in x:                            # makes a loop over the list \"x\"\n",
        "        variance = variance + (number - avg)**2 # adds the square of the difference between each item and the average\n",
        "    return(np.sqrt(variance/(len(x)-1)))        # divides the total by N-1\n",
        "\n",
        "def standard_error(x):\n",
        "    return(standard_deviation(x))/np.sqrt(len(x)) # divides the standard deviation by sqrt of the number of points\n",
        "\n",
        "def t_prime(A, dA, B, dB=0):               # Calculates the t_prime value between A +/- dA and B +/- B\n",
        "    return((A-B)/np.sqrt(dA**2 + dB**2))   # If only 3 arguments are given, assumes dB = 0 (e.g. a literature value)"
      ],
      "execution_count": null,
      "outputs": []
    },
    {
      "cell_type": "code",
      "metadata": {
        "id": "eomHvKCQRl6N"
      },
      "source": [
        "# These lines control how our figures look\n",
        "%matplotlib inline\n",
        "plt.rcParams['figure.dpi'] = 160 #Change this value to make your picture bigger or smaller"
      ],
      "execution_count": null,
      "outputs": []
    },
    {
      "cell_type": "markdown",
      "metadata": {
        "id": "j3mxQgN7F3eg"
      },
      "source": [
        "# Part 2 -- Individual measurements for larger $\\theta$\n",
        "As you continue your experiment on Day 2, you may use this section to continue plotting your period data."
      ]
    },
    {
      "cell_type": "markdown",
      "metadata": {
        "id": "BipoxvMdn2Ux"
      },
      "source": [
        "**Edit** the first line here by entering the length of the pendulum. The rest of the code will will calculate the predicted period."
      ]
    },
    {
      "cell_type": "code",
      "metadata": {
        "colab": {
          "base_uri": "https://localhost:8080/"
        },
        "id": "1Hh77D3Bn2U4",
        "outputId": "4b90c305-9db9-4ac6-cad6-3dd705eb2db8"
      },
      "source": [
        "import numpy as np\n",
        "\n",
        "# L is the length of your pendulum (in meters)\n",
        "L = 0.3775\n",
        "\n",
        "# T_predicted is the value of the period predicted from the formula (in seconds)\n",
        "T_predicted = 2*np.pi*np.sqrt(L/9.81)\n",
        "\n",
        "print(\"Predicted Period: T = \", T_predicted, \"seconds\")"
      ],
      "execution_count": null,
      "outputs": [
        {
          "output_type": "stream",
          "name": "stdout",
          "text": [
            "Predicted Period: T =  1.2325480037772085 seconds\n"
          ]
        }
      ]
    },
    {
      "cell_type": "markdown",
      "metadata": {
        "id": "zS19Dvk6F3eh"
      },
      "source": [
        "Continue adding data at larger angles. We have created some empty lists, but you can add lists at any angle by following the naming pattern.\n",
        "\n",
        "- Create a new blank list of the form `Txx` where `xx` is the angle (in degrees)\n",
        "- Add that angle (in degrees) to the list `angles`\n",
        "- Add the new angle to the list `angles_All` and the period to the list `T_All`"
      ]
    },
    {
      "cell_type": "code",
      "metadata": {
        "id": "V1wYY6_BF3eh"
      },
      "source": [
        "# T5 and T10 are lists of your measured periods of 5 and 10 degrees, respectively\n",
        "\n",
        "T15 = [1.08,1.04,1.09]\n",
        "T30 = [1.08,1.08,1.08]\n",
        "T60 = [1.09,1.08,1.06]\n",
        "T90 = [1.14,1.13,1.144]\n",
        "\n",
        "# T_All is a list of lists\n",
        "angles_All = [15,30,60,90]\n",
        "T_All = [T15,T30,T60,T90]"
      ],
      "execution_count": null,
      "outputs": []
    },
    {
      "cell_type": "markdown",
      "metadata": {
        "id": "wx2cvgGBF3ek"
      },
      "source": [
        "Next we compute the average period and uncertainty for each angle."
      ]
    },
    {
      "cell_type": "code",
      "metadata": {
        "id": "9kXuZyq8F3el",
        "colab": {
          "base_uri": "https://localhost:8080/"
        },
        "outputId": "37300e64-1ef7-4083-853c-745c35d7d253"
      },
      "source": [
        "import statistics\n",
        "\n",
        "angles = []\n",
        "avg = []\n",
        "davg = []\n",
        "\n",
        "print(\"Predicted T = \", T_predicted, \"seconds\")\n",
        "# This loop goes through all of your data and finds the average and standard deviation of the mean for each angle.\n",
        "for n,T in enumerate(T_All):\n",
        "    if len(T)>0:\n",
        "        angles.append(angles_All[n])\n",
        "        avg.append(average(T))\n",
        "        davg.append(standard_error(T))\n",
        "        print(\"T at\", angles[n],\"degrees = \", avg[n], \"+/-\", davg[n], \"seconds\")"
      ],
      "execution_count": null,
      "outputs": [
        {
          "output_type": "stream",
          "name": "stdout",
          "text": [
            "Predicted T =  1.2325480037772085 seconds\n",
            "T at 15 degrees =  1.07 +/- 0.01527525231651948 seconds\n",
            "T at 30 degrees =  1.08 +/- 0.0 seconds\n",
            "T at 60 degrees =  1.0766666666666667 +/- 0.008819171036881977 seconds\n",
            "T at 90 degrees =  1.138 +/- 0.0041633319989322695 seconds\n"
          ]
        }
      ]
    },
    {
      "cell_type": "markdown",
      "metadata": {
        "id": "vqHRb-QdF3eo"
      },
      "source": [
        "Next, we plot the data."
      ]
    },
    {
      "cell_type": "code",
      "metadata": {
        "id": "mprBntQhF3ep",
        "colab": {
          "base_uri": "https://localhost:8080/",
          "height": 742
        },
        "outputId": "91cbd314-28b1-4c00-d1dd-e8f7dab599ad"
      },
      "source": [
        "plt.figure()\n",
        "plt.axhline(T_predicted, color = 'black', linestyle='--', label='Predicted Value')\n",
        "\n",
        "for n,T in enumerate(T_All):\n",
        "    if len(T)>0:\n",
        "        plt.plot(angles[n]*np.ones(len(T)), T, 'o')\n",
        "        # this plots your data points for each angle\n",
        "\n",
        "plt.errorbar(angles, avg, davg, fmt = 'k.', capsize=2)\n",
        "    #this plots the average and standard deviation of the mean for each angle\n",
        "plt.xlabel(\"Angle, $\\\\theta$ (degrees)\")\n",
        "plt.ylabel(\"Period, $T$ (sec)\")\n",
        "plt.title(\"Period of a Pendulum\")\n",
        "plt.xlim([0, 100])\n",
        "plt.legend()\n",
        "plt.show()"
      ],
      "execution_count": null,
      "outputs": [
        {
          "output_type": "display_data",
          "data": {
            "text/plain": [
              "<Figure size 1024x768 with 1 Axes>"
            ],
            "image/png": "[encoded data removed]"
          },
          "metadata": {}
        }
      ]
    },
    {
      "cell_type": "markdown",
      "metadata": {
        "id": "2vWKnhbxF3es"
      },
      "source": [
        "Finally, check the $t^{\\prime}$ value at each angle to see if we have agreement."
      ]
    },
    {
      "cell_type": "code",
      "metadata": {
        "id": "fgo4p0YDF3et",
        "colab": {
          "base_uri": "https://localhost:8080/"
        },
        "outputId": "0a5dec49-3a07-44c1-840d-60ef01ae5be8"
      },
      "source": [
        "for n, theta in enumerate(angles):\n",
        "    print(\"For\", theta, \"degrees, t' =\", t_prime(avg[n], davg[n], T_predicted))\n",
        "\n",
        "print(\"For\", 30, \"degrees, t' =\", t_prime(average(T90), standard_error(T90), T_predicted))"
      ],
      "execution_count": null,
      "outputs": [
        {
          "output_type": "stream",
          "name": "stdout",
          "text": [
            "For 15 degrees, t' = -10.641264733900355\n",
            "For 30 degrees, t' = -inf\n",
            "For 60 degrees, t' = -17.675282229887877\n",
            "For 90 degrees, t' = -22.70969593620121\n",
            "For 30 degrees, t' = -22.70969593620121\n"
          ]
        },
        {
          "output_type": "stream",
          "name": "stderr",
          "text": [
            "/tmp/ipython-input-4162965860.py:23: RuntimeWarning: divide by zero encountered in scalar divide\n",
            "  return((A-B)/np.sqrt(dA**2 + dB**2))   # If only 3 arguments are given, assumes dB = 0 (e.g. a literature value)\n"
          ]
        }
      ]
    },
    {
      "cell_type": "markdown",
      "metadata": {
        "id": "FbPJcJoxQLWA"
      },
      "source": [
        "#Looking at an \"improved\" model\n",
        "*Don't move on to this section until instructed to do so by your TA!*"
      ]
    },
    {
      "cell_type": "markdown",
      "metadata": {
        "id": "Nzy02DkjQ_os"
      },
      "source": [
        "Now we can use a more sophisticated model for the predicted period. This model *depends* on angle, and therefore we need to compute the predicted period separately for each angle.\n",
        "\n",
        "We won't derive the formula here, but the full solution model comes from solving a differential equation that involves *all* the forces acting on the pendulum mass:\n",
        "\n",
        "$T = 2\\pi\\sqrt{\\frac{L}{g}} \\bigg(\\frac{K(\\sin(\\theta/2))}{\\pi/2}\\bigg)$\n",
        "\n",
        "where\n",
        "\n",
        "$K(x) = \\int_0^{\\pi/2} \\frac{\\textrm{d}u}{\\sqrt{1-x^2\\sin^2 u}}$\n",
        "\n",
        "is a so-called *elliptical integral*. This integral has no closed-form solution, so the best we can do is rewrite it in terms of Legendre Polynomials and perform a Taylor expansion around zero angle. This gives the following approximation:\n",
        "\n",
        "$T = 2\\pi\\sqrt{\\frac{L}{g}}\\bigg[1 + \\frac{1}{4}\\sin^2(\\theta/2) + \\frac{9}{64}\\sin^4(\\theta/2)+\\ldots\\bigg]$\n",
        "\n",
        "This approximation has an infinite number of terms. We can see whether adding the additional two terms shown here improves the agreement between the experimental data and the model."
      ]
    },
    {
      "cell_type": "code",
      "metadata": {
        "id": "EQgxQMrLz7P1"
      },
      "source": [
        "def T_predicted_expanded(ell, x):\n",
        "    theta = x*np.pi/180\n",
        "    return 2*np.pi*np.sqrt(ell/9.81)*(1 + 1/4*np.sin(theta/2)**2 + 9/64*np.sin(theta/2)**4)\n",
        "\n",
        "# T_predicted is the value of the period predicted from the formula (in seconds)\n",
        "for n, theta in enumerate(angles):\n",
        "    print(\"Theta = \", theta, \"degrees // Predicted Period: T = \", T_predicted_expanded(L, theta), \"seconds\")"
      ],
      "execution_count": null,
      "outputs": []
    },
    {
      "cell_type": "code",
      "metadata": {
        "id": "1ynXLAZ4z-OG"
      },
      "source": [
        "plt.figure()\n",
        "plt.axhline(T_predicted, color = 'black', linestyle='--', label='Small Angle Model')\n",
        "ANGLES = np.linspace(0,50,500)\n",
        "plt.plot(ANGLES, T_predicted_expanded(L, ANGLES), 'k-', label='General Model')\n",
        "\n",
        "for n,T in enumerate(T_All):\n",
        "    if len(T)>0:\n",
        "        plt.plot(angles[n]*np.ones(len(T)), T, 'o')\n",
        "        # this plots your data points for each angle\n",
        "\n",
        "plt.errorbar(angles, avg, davg, fmt = 'k.', capsize=2)\n",
        "    #this plots the average and standard deviation of the mean for each angle\n",
        "plt.xlabel(\"Angle, $\\\\theta$ (degrees)\")\n",
        "plt.ylabel(\"Period, $T$ (sec)\")\n",
        "plt.title(\"Period of a Pendulum\")\n",
        "plt.xlim([0, 100])\n",
        "plt.legend()\n",
        "plt.show()"
      ],
      "execution_count": null,
      "outputs": []
    },
    {
      "cell_type": "markdown",
      "metadata": {
        "id": "YYhAam2V0HRT"
      },
      "source": [
        "Finally, we can perform the $t^{\\prime}$ test on each point."
      ]
    },
    {
      "cell_type": "code",
      "metadata": {
        "id": "QOOxxReW0HsB"
      },
      "source": [
        "for n, theta in enumerate(angles):\n",
        "    print(\"For\", theta, \"degrees, t' =\", t_prime(avg[n], davg[n],\n",
        "          T_predicted_expanded(L,theta)))\n",
        "print (\"\")\n",
        "print (\"\")\n",
        "print (\"\")\n",
        "print (\"For\", 30, \"degrees, t' =\", t_prime(average(T90), standard_error(T90),\n",
        "          T_predicted_expanded(L,30)))"
      ],
      "execution_count": null,
      "outputs": []
    },
    {
      "cell_type": "code",
      "metadata": {
        "id": "u5aO8RNxN4Mc"
      },
      "source": [],
      "execution_count": null,
      "outputs": []
    }
  ]
}